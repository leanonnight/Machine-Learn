{
  "nbformat": 4,
  "nbformat_minor": 0,
  "metadata": {
    "colab": {
      "name": "Colaboratory",
      "provenance": [],
      "collapsed_sections": [],
      "include_colab_link": true
    },
    "kernelspec": {
      "display_name": "Python 3",
      "name": "python3"
    }
  },
  "cells": [
    {
      "cell_type": "markdown",
      "metadata": {
        "id": "view-in-github",
        "colab_type": "text"
      },
      "source": [
        "<a href=\"https://colab.research.google.com/github/leanonnight/Machine-Learn/blob/main/Colaboratory.ipynb\" target=\"_parent\"><img src=\"https://colab.research.google.com/assets/colab-badge.svg\" alt=\"Open In Colab\"/></a>"
      ]
    },
    {
      "cell_type": "markdown",
      "metadata": {
        "id": "KynOGez3WwxQ"
      },
      "source": [
        "# 学习环境：Colaboratory\n",
        "## 一、网址：https://colab.research.google.com/drive/\n",
        "能够在浏览器端编写和执行python代码，不用本地安装python及机器学习所用库，还能免费使用GPU/TPU计算资源（但有限制）"
      ]
    },
    {
      "cell_type": "markdown",
      "metadata": {
        "id": "F6Cbe7LBWxRZ"
      },
      "source": [
        "## 二、机器配置\n"
      ]
    },
    {
      "cell_type": "markdown",
      "metadata": {
        "id": "YIDgo41tTCt7"
      },
      "source": [
        "### 1.处理器\n"
      ]
    },
    {
      "cell_type": "code",
      "metadata": {
        "id": "8scONEQFYINi",
        "colab": {
          "base_uri": "https://localhost:8080/"
        },
        "outputId": "79fe4c01-ad2d-4109-8ef0-062ef8725c3f"
      },
      "source": [
        "!lshw -short | grep processor"
      ],
      "execution_count": null,
      "outputs": [
        {
          "output_type": "stream",
          "name": "stdout",
          "text": [
            "\r\rDMI\r\r   \rSMP\r\r   \rPA-RISC\r\r       \rdevice-tree\r\r           \rSPD\r\r   \rmemory\r\r      \r/proc/cpuinfo\r\r             \rCPUID\r\r     \rPCI (sysfs)\r\r           \rISA PnP\r\r       \rPCMCIA\r\r      \rPCMCIA\r\r      \rVirtual I/O (VIRTIO) devices\r\r                            \rkernel device tree (sysfs)\r\r                          \rUSB\r\r   \rIDE\r\r   \rSCSI\r\r    \rNVMe\r\r    \rNetwork interfaces\r\r                  \rFramebuffer devices\r\r                   \rDisplay\r\r       \rCPUFreq\r\r       \rABI\r\r   \r\r/0/1                processor  Intel(R) Xeon(R) CPU @ 2.20GHz\n"
          ]
        }
      ]
    },
    {
      "cell_type": "markdown",
      "metadata": {
        "id": "dgQkjpKpbe1S"
      },
      "source": [
        "### 2.内存"
      ]
    },
    {
      "cell_type": "code",
      "metadata": {
        "id": "RifhMUAybhpD",
        "colab": {
          "base_uri": "https://localhost:8080/"
        },
        "outputId": "a2a2cfcc-d905-4e86-fd6a-cf53b30069b3"
      },
      "source": [
        "!lshw -short | grep memory"
      ],
      "execution_count": null,
      "outputs": [
        {
          "output_type": "stream",
          "name": "stdout",
          "text": [
            "\r\rDMI\r\r   \rSMP\r\r   \rPA-RISC\r\r       \rdevice-tree\r\r           \rSPD\r\r   \rmemory\r\r      \r/proc/cpuinfo\r\r             \rCPUID\r\r     \rPCI (sysfs)\r\r           \rISA PnP\r\r       \rPCMCIA\r\r      \rPCMCIA\r\r      \rVirtual I/O (VIRTIO) devices\r\r                            \rkernel device tree (sysfs)\r\r                          \rUSB\r\r   \rIDE\r\r   \rSCSI\r\r    \rNVMe\r\r    \rNetwork interfaces\r\r                  \rFramebuffer devices\r\r                   \rDisplay\r\r       \rCPUFreq\r\r       \rABI\r\r   \r\r/0/0                memory     12GiB System memory\n"
          ]
        }
      ]
    },
    {
      "cell_type": "markdown",
      "metadata": {
        "id": "8wm_rOmlboti"
      },
      "source": [
        "### 3.显卡"
      ]
    },
    {
      "cell_type": "code",
      "metadata": {
        "id": "BFjIpuv5bs5C",
        "colab": {
          "base_uri": "https://localhost:8080/"
        },
        "outputId": "d26dd4ea-dbd6-4518-9208-fc74cb140ead"
      },
      "source": [
        "!lspci | grep \"3D\"!"
      ],
      "execution_count": null,
      "outputs": [
        {
          "output_type": "stream",
          "name": "stdout",
          "text": [
            "00:04.0 3D controller: NVIDIA Corporation GK210GL [Tesla K80] (rev a1)\n"
          ]
        }
      ]
    }
  ]
}